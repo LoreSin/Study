{
 "cells": [
  {
   "cell_type": "code",
   "execution_count": 1,
   "metadata": {},
   "outputs": [
    {
     "name": "stderr",
     "output_type": "stream",
     "text": [
      "Using TensorFlow backend.\n"
     ]
    }
   ],
   "source": [
    "from PIL import Image\n",
    "import os, glob, numpy as np\n",
    "from keras.models import load_model\n",
    "\n",
    "import tensorflow as tf"
   ]
  },
  {
   "cell_type": "code",
   "execution_count": 2,
   "metadata": {},
   "outputs": [],
   "source": [
    "seed = 5\n",
    "tf.set_random_seed(seed)\n",
    "np.random.seed(seed)\n",
    "\n",
    "test_dir = './dataset'\n",
    "\n",
    "image_w = 64\n",
    "image_h = 64\n",
    "pixels = image_w * image_h * 3"
   ]
  },
  {
   "cell_type": "code",
   "execution_count": 5,
   "metadata": {},
   "outputs": [
    {
     "name": "stdout",
     "output_type": "stream",
     "text": [
      "해당 Cat_extra/cat_003.jpeg이미지는 고슴도치로 추정됩니다. |  [0.818]\n",
      "해당 Cat_extra/cat_005.jpeg이미지는 고양이로 추정됩니다. |  [0.019]\n",
      "해당 Cat_extra/cat_014.jpeg이미지는 고양이로 추정됩니다. |  [0.035]\n",
      "해당 Cat_extra/cat_020.jpeg이미지는 고양이로 추정됩니다. |  [0.029]\n",
      "해당 Cat_extra/cat_021.jpeg이미지는 고양이로 추정됩니다. |  [0.099]\n",
      "해당 Cat_extra/cat_023.jpeg이미지는 고양이로 추정됩니다. |  [0.092]\n",
      "해당 Cat_extra/cat_030.jpeg이미지는 고양이로 추정됩니다. |  [0.192]\n",
      "해당 Cat_extra/cat_058.jpeg이미지는 고양이로 추정됩니다. |  [0.114]\n",
      "해당 Cat_extra/cat_110.jpeg이미지는 고양이로 추정됩니다. |  [0.005]\n",
      "해당 Cat_extra/cat_134.jpeg이미지는 고양이로 추정됩니다. |  [0.228]\n",
      "해당 Cat_extra/cat_135.jpeg이미지는 고양이로 추정됩니다. |  [0.022]\n",
      "해당 Cat_extra/cat_137.jpeg이미지는 고양이로 추정됩니다. |  [0.001]\n",
      "해당 Cat_extra/cat_139.jpeg이미지는 고양이로 추정됩니다. |  [0.042]\n",
      "해당 Cat_extra/cat_142.jpeg이미지는 고양이로 추정됩니다. |  [0.010]\n",
      "해당 Cat_extra/cat_147.jpeg이미지는 고양이로 추정됩니다. |  [0.052]\n",
      "해당 Cat_extra/cat_185 (2).jpeg이미지는 고양이로 추정됩니다. |  [0.098]\n",
      "해당 Cat_extra/cat_195.jpeg이미지는 고양이로 추정됩니다. |  [0.016]\n",
      "해당 Cat_extra/cat_196.jpeg이미지는 고양이로 추정됩니다. |  [0.057]\n",
      "해당 Cat_extra/cat_204 (2).jpeg이미지는 고양이로 추정됩니다. |  [0.046]\n",
      "해당 Cat_extra/cat_244 (2).jpeg이미지는 고양이로 추정됩니다. |  [0.022]\n",
      "해당 Cat_extra/cat_313.jpeg이미지는 고슴도치로 추정됩니다. |  [0.619]\n",
      "해당 Cat_extra/cat_328.jpeg이미지는 고양이로 추정됩니다. |  [0.106]\n",
      "해당 Cat_extra/cat_392.jpeg이미지는 고양이로 추정됩니다. |  [0.385]\n",
      "해당 Cat_extra/cat_539.jpeg이미지는 고양이로 추정됩니다. |  [0.115]\n",
      "해당 heavy_extra/ETC_254.jpeg이미지는 고양이로 추정됩니다. |  [0.073]\n",
      "해당 heavy_extra/刺猬_193.jpeg이미지는 고양이로 추정됩니다. |  [0.025]\n",
      "해당 heavy_extra/刺猬_230.jpeg이미지는 고슴도치로 추정됩니다. |  [0.976]\n",
      "해당 heavy_extra/刺猬_250.jpeg이미지는 고슴도치로 추정됩니다. |  [0.975]\n",
      "해당 heavy_extra/刺猬_252.jpeg이미지는 고양이로 추정됩니다. |  [0.122]\n",
      "해당 heavy_extra/刺猬_267.jpeg이미지는 고양이로 추정됩니다. |  [0.065]\n",
      "해당 heavy_extra/刺猬_271.jpeg이미지는 고슴도치로 추정됩니다. |  [1.000]\n",
      "해당 heavy_extra/刺猬_290.jpeg이미지는 고슴도치로 추정됩니다. |  [1.000]\n",
      "해당 heavy_extra/刺猬_292.jpeg이미지는 고슴도치로 추정됩니다. |  [0.980]\n",
      "해당 heavy_extra/猫_005.jpeg이미지는 고양이로 추정됩니다. |  [0.091]\n",
      "해당 heavy_extra/猫_009.jpeg이미지는 고양이로 추정됩니다. |  [0.292]\n",
      "해당 heavy_extra/猫_014.jpeg이미지는 고양이로 추정됩니다. |  [0.018]\n",
      "해당 heavy_extra/猫_023.jpeg이미지는 고양이로 추정됩니다. |  [0.015]\n",
      "해당 heavy_extra/猫_025.jpeg이미지는 고양이로 추정됩니다. |  [0.016]\n",
      "해당 heavy_extra/猫_040.jpeg이미지는 고양이로 추정됩니다. |  [0.146]\n",
      "해당 heavy_extra/猫_042.jpeg이미지는 고양이로 추정됩니다. |  [0.036]\n",
      "해당 heavy_extra/猫_082.jpeg이미지는 고슴도치로 추정됩니다. |  [0.658]\n",
      "해당 heavy_extra/猫_097.jpeg이미지는 고양이로 추정됩니다. |  [0.411]\n",
      "해당 Hedgehog_extra/ETC_102.jpeg이미지는 고슴도치로 추정됩니다. |  [1.000]\n",
      "해당 Hedgehog_extra/hedgehog-006.jpeg이미지는 고슴도치로 추정됩니다. |  [0.997]\n",
      "해당 Hedgehog_extra/hedgehog-012.jpeg이미지는 고슴도치로 추정됩니다. |  [0.989]\n",
      "해당 Hedgehog_extra/hedgehog-014.jpeg이미지는 고양이로 추정됩니다. |  [0.010]\n",
      "해당 Hedgehog_extra/hedgehog-016.jpeg이미지는 고양이로 추정됩니다. |  [0.472]\n",
      "해당 Hedgehog_extra/hedgehog-052.jpeg이미지는 고양이로 추정됩니다. |  [0.033]\n",
      "해당 Hedgehog_extra/hedgehog-054.jpeg이미지는 고슴도치로 추정됩니다. |  [1.000]\n",
      "해당 Hedgehog_extra/hedgehog-078.jpeg이미지는 고슴도치로 추정됩니다. |  [1.000]\n",
      "해당 Hedgehog_extra/hedgehog-143.jpeg이미지는 고슴도치로 추정됩니다. |  [0.913]\n",
      "해당 Hedgehog_extra/hedgehog-149.jpeg이미지는 고슴도치로 추정됩니다. |  [0.690]\n",
      "해당 Hedgehog_extra/hedgehog-212.jpeg이미지는 고슴도치로 추정됩니다. |  [0.999]\n",
      "해당 Hedgehog_extra/hedgehog-394.jpeg이미지는 고양이로 추정됩니다. |  [0.034]\n",
      "해당 Hedgehog_extra/hedgehog-398.jpeg이미지는 고슴도치로 추정됩니다. |  [0.995]\n",
      "해당 Hedgehog_extra/刺猬_201.jpeg이미지는 고슴도치로 추정됩니다. |  [1.000]\n",
      "해당 Hedgehog_extra/刺猬_218.jpeg이미지는 고양이로 추정됩니다. |  [0.117]\n",
      "해당 Hedgehog_extra/刺猬_219.jpeg이미지는 고슴도치로 추정됩니다. |  [1.000]\n",
      "해당 Hedgehog_extra/刺猬_241.jpeg이미지는 고슴도치로 추정됩니다. |  [1.000]\n",
      "해당 Hedgehog_extra/刺猬_292.jpeg이미지는 고슴도치로 추정됩니다. |  [0.980]\n"
     ]
    }
   ],
   "source": [
    "X = []\n",
    "filenames = []\n",
    "files = glob.glob(test_dir + \"/*/*/*.jpeg\")\n",
    "\n",
    "len(files)\n",
    "\n",
    "for i, f in enumerate(files):\n",
    "    img = Image.open(f)\n",
    "    img = img.convert(\"RGB\")\n",
    "    img = img.resize((image_w, image_h))\n",
    "    data = np.asarray(img)\n",
    "    \n",
    "    filenames.append(f)\n",
    "    X.append(data)\n",
    "\n",
    "X = np.array(X)\n",
    "X = X.astype(float) / 255\n",
    "\n",
    "# model = load_model('./model/cat_hedgehog_classify.model')\n",
    "model = load_model('./model/cat_hedgehog_classify2.model')\n",
    "\n",
    "prediction = model.predict(X)\n",
    "np.set_printoptions(formatter={'float': lambda x:\"{0:0.3f}\".format(x)})\n",
    "cnt = 0\n",
    "\n",
    "for i in prediction:\n",
    "    tempname = filenames[cnt].split('\\\\')\n",
    "#     print(tempname)\n",
    "    if i >= 0.5: print(\"해당 \" + '/'.join(tempname[-2:]) + \"이미지는 고슴도치로 추정됩니다. | \", i)\n",
    "    else: print(\"해당 \" + '/'.join(tempname[-2:]) + \"이미지는 고양이로 추정됩니다. | \", i)\n",
    "    cnt += 1"
   ]
  },
  {
   "cell_type": "code",
   "execution_count": null,
   "metadata": {},
   "outputs": [],
   "source": []
  },
  {
   "cell_type": "code",
   "execution_count": null,
   "metadata": {},
   "outputs": [],
   "source": []
  },
  {
   "cell_type": "code",
   "execution_count": null,
   "metadata": {},
   "outputs": [],
   "source": []
  }
 ],
 "metadata": {
  "kernelspec": {
   "display_name": "Python 3",
   "language": "python",
   "name": "python3"
  },
  "language_info": {
   "codemirror_mode": {
    "name": "ipython",
    "version": 3
   },
   "file_extension": ".py",
   "mimetype": "text/x-python",
   "name": "python",
   "nbconvert_exporter": "python",
   "pygments_lexer": "ipython3",
   "version": "3.7.4"
  }
 },
 "nbformat": 4,
 "nbformat_minor": 2
}
