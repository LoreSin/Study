{
 "cells": [
  {
   "cell_type": "markdown",
   "metadata": {},
   "source": [
    "# 10가지 분류 CNN 만들기"
   ]
  },
  {
   "cell_type": "code",
   "execution_count": 9,
   "metadata": {},
   "outputs": [
    {
     "name": "stderr",
     "output_type": "stream",
     "text": [
      "Using TensorFlow backend.\n"
     ]
    }
   ],
   "source": [
    "from PIL import Image\n",
    "import os, glob, numpy as np\n",
    "from sklearn.model_selection import train_test_split\n",
    "import tensorflow as tf\n",
    "from keras.utils import np_utils"
   ]
  },
  {
   "cell_type": "code",
   "execution_count": 39,
   "metadata": {
    "scrolled": true
   },
   "outputs": [
    {
     "name": "stdout",
     "output_type": "stream",
     "text": [
      "Cat  :  ./dataset/Cat\\cat_003.jpeg\n",
      "Cat  :  ./dataset/Cat\\cat_018 (2).jpeg\n",
      "Cat  :  ./dataset/Cat\\cat_035.jpeg\n",
      "Cat  :  ./dataset/Cat\\cat_056.jpeg\n",
      "Cat  :  ./dataset/Cat\\cat_075.jpeg\n",
      "Cat  :  ./dataset/Cat\\cat_099.jpeg\n",
      "Cat  :  ./dataset/Cat\\cat_136.jpeg\n",
      "Cat  :  ./dataset/Cat\\cat_162 (2).jpeg\n",
      "Cat  :  ./dataset/Cat\\cat_181.jpeg\n",
      "Cat  :  ./dataset/Cat\\cat_209.jpeg\n",
      "Cat  :  ./dataset/Cat\\cat_240.jpeg\n",
      "Cat  :  ./dataset/Cat\\cat_263.jpeg\n",
      "Cat  :  ./dataset/Cat\\cat_293.jpeg\n",
      "Cat  :  ./dataset/Cat\\cat_323.jpeg\n",
      "Cat  :  ./dataset/Cat\\cat_361.jpeg\n",
      "Cat  :  ./dataset/Cat\\cat_414.jpeg\n",
      "Cat  :  ./dataset/Cat\\cat_489.jpeg\n",
      "Cat  :  ./dataset/Cat\\cat_553.jpeg\n",
      "Cat  :  ./dataset/Cat\\cat_605.jpeg\n",
      "Cat  :  ./dataset/Cat\\cat_658.jpeg\n",
      "Hedgehog  :  ./dataset/Hedgehog\\hedgehog-004.jpeg\n",
      "Hedgehog  :  ./dataset/Hedgehog\\hedgehog-029.jpeg\n",
      "Hedgehog  :  ./dataset/Hedgehog\\hedgehog-067.jpeg\n",
      "Hedgehog  :  ./dataset/Hedgehog\\hedgehog-106.jpeg\n",
      "Hedgehog  :  ./dataset/Hedgehog\\hedgehog-138.jpeg\n",
      "Hedgehog  :  ./dataset/Hedgehog\\hedgehog-209.jpeg\n",
      "Hedgehog  :  ./dataset/Hedgehog\\hedgehog-303.jpeg\n",
      "Hedgehog  :  ./dataset/Hedgehog\\hedgehog-365.jpeg\n",
      "Hedgehog  :  ./dataset/Hedgehog\\hodgehod__169.jpeg\n",
      "Hedgehog  :  ./dataset/Hedgehog\\hodgehod__212.jpeg\n",
      "Hedgehog  :  ./dataset/Hedgehog\\hodgehod__235.jpeg\n",
      "Hedgehog  :  ./dataset/Hedgehog\\hodgehod__265.jpeg\n",
      "Hedgehog  :  ./dataset/Hedgehog\\hodgehod__304.jpeg\n",
      "Hedgehog  :  ./dataset/Hedgehog\\hodgehod__353.jpeg\n",
      "Hedgehog  :  ./dataset/Hedgehog\\hodgehod__400.jpeg\n",
      "Hedgehog  :  ./dataset/Hedgehog\\hodgehod__464.jpeg\n",
      "Hedgehog  :  ./dataset/Hedgehog\\hodgehod__504.jpeg\n",
      "Hedgehog  :  ./dataset/Hedgehog\\hodgehod__537.jpeg\n",
      "Hedgehog  :  ./dataset/Hedgehog\\hodgehod__584.jpeg\n",
      "Hedgehog  :  ./dataset/Hedgehog\\刺猬_033.jpeg\n",
      "Hedgehog  :  ./dataset/Hedgehog\\刺猬_107.jpeg\n",
      "Hedgehog  :  ./dataset/Hedgehog\\刺猬_170.jpeg\n",
      "autocycle  :  ./dataset/autocycle\\prefix-002.jpeg\n",
      "autocycle  :  ./dataset/autocycle\\prefix-023.jpeg\n",
      "autocycle  :  ./dataset/autocycle\\prefix-054.jpeg\n",
      "autocycle  :  ./dataset/autocycle\\prefix-094.jpeg\n",
      "autocycle  :  ./dataset/autocycle\\prefix-162.jpeg\n",
      "autocycle  :  ./dataset/autocycle\\prefix-230.jpeg\n",
      "autocycle  :  ./dataset/autocycle\\prefix-349.jpeg\n",
      "car  :  ./dataset/car\\跑车_001.jpeg\n",
      "car  :  ./dataset/car\\跑车_022.jpeg\n",
      "car  :  ./dataset/car\\跑车_054.jpeg\n",
      "car  :  ./dataset/car\\跑车_093.jpeg\n",
      "car  :  ./dataset/car\\跑车_147.jpeg\n",
      "car  :  ./dataset/car\\跑车_187.jpeg\n",
      "car  :  ./dataset/car\\跑车_245.jpeg\n",
      "car  :  ./dataset/car\\跑车_304.jpeg\n",
      "car  :  ./dataset/car\\跑车_387.jpeg\n",
      "car  :  ./dataset/car\\跑车_447.jpeg\n",
      "car  :  ./dataset/car\\跑车_495.jpeg\n",
      "car  :  ./dataset/car\\跑车_580.jpeg\n",
      "car  :  ./dataset/car\\跑车_668.jpeg\n",
      "car  :  ./dataset/car\\스포츠카_018.jpeg\n",
      "car  :  ./dataset/car\\스포츠카_041.jpeg\n",
      "car  :  ./dataset/car\\스포츠카_064.jpeg\n",
      "car  :  ./dataset/car\\스포츠카_094.jpeg\n",
      "car  :  ./dataset/car\\스포츠카_124.jpeg\n",
      "car  :  ./dataset/car\\스포츠카_151.jpeg\n",
      "car  :  ./dataset/car\\스포츠카_180.jpeg\n",
      "car  :  ./dataset/car\\스포츠카_227.jpeg\n",
      "car  :  ./dataset/car\\스포츠카_267.jpeg\n",
      "car  :  ./dataset/car\\스포츠카_309.jpeg\n",
      "car  :  ./dataset/car\\스포츠카_352.jpeg\n",
      "car  :  ./dataset/car\\스포츠카_386.jpeg\n",
      "Crow  :  ./dataset/Crow\\Crow_004.jpeg\n",
      "Crow  :  ./dataset/Crow\\Crow_048.jpeg\n",
      "Crow  :  ./dataset/Crow\\Crow_132.jpeg\n",
      "Crow  :  ./dataset/Crow\\Crow_229.jpeg\n",
      "Crow  :  ./dataset/Crow\\Crow_358.jpeg\n",
      "Crow  :  ./dataset/Crow\\カラス_071.jpeg\n",
      "Crow  :  ./dataset/Crow\\乌鸦_011.jpeg\n",
      "Crow  :  ./dataset/Crow\\乌鸦_052.jpeg\n",
      "Crow  :  ./dataset/Crow\\乌鸦_186.jpeg\n",
      "Crow  :  ./dataset/Crow\\까마귀_008.jpeg\n",
      "gold fish  :  ./dataset/gold fish\\goldfish-003.jpeg\n",
      "gold fish  :  ./dataset/gold fish\\goldfish-196.jpeg\n",
      "gold fish  :  ./dataset/gold fish\\prefix-003.jpeg\n",
      "gold fish  :  ./dataset/gold fish\\prefix-030.jpeg\n",
      "gold fish  :  ./dataset/gold fish\\prefix-073.jpeg\n",
      "gold fish  :  ./dataset/gold fish\\prefix-186.jpeg\n",
      "gold fish  :  ./dataset/gold fish\\prefix-309.jpeg\n",
      "gold fish  :  ./dataset/gold fish\\金魚-034.jpeg\n",
      "gold fish  :  ./dataset/gold fish\\金魚-340.jpeg\n",
      "horse  :  ./dataset/horse\\horse-002.jpeg\n",
      "horse  :  ./dataset/horse\\horse-122.jpeg\n",
      "horse  :  ./dataset/horse\\prefix-005.jpeg\n",
      "horse  :  ./dataset/horse\\prefix-057.jpeg\n",
      "horse  :  ./dataset/horse\\馬-026.jpeg\n",
      "horse  :  ./dataset/horse\\馬-288.jpeg\n",
      "human  :  ./dataset/human\\casual_model_006.jpeg\n",
      "human  :  ./dataset/human\\casual_model_115.jpeg\n",
      "human  :  ./dataset/human\\casual_model_370.jpeg\n",
      "human  :  ./dataset/human\\suit_model_146.jpeg\n",
      "human  :  ./dataset/human\\suit_model_386.jpeg\n",
      "human  :  ./dataset/human\\カジュアル_027.jpeg\n",
      "human  :  ./dataset/human\\カジュアル_055.jpeg\n",
      "human  :  ./dataset/human\\カジュアル_135.jpeg\n",
      "human  :  ./dataset/human\\カジュアル_394.jpeg\n",
      "human  :  ./dataset/human\\캐주얼모델_059.jpeg\n",
      "human  :  ./dataset/human\\캐주얼모델_385.jpeg\n",
      "pheasant  :  ./dataset/pheasant\\prefix-002.jpeg\n",
      "pheasant  :  ./dataset/pheasant\\prefix-015 (2).jpeg\n",
      "pheasant  :  ./dataset/pheasant\\prefix-039.jpeg\n",
      "pheasant  :  ./dataset/pheasant\\prefix-077 (2).jpeg\n",
      "pheasant  :  ./dataset/pheasant\\prefix-115.jpeg\n",
      "pheasant  :  ./dataset/pheasant\\prefix-143.jpeg\n",
      "pheasant  :  ./dataset/pheasant\\prefix-175.jpeg\n",
      "pheasant  :  ./dataset/pheasant\\prefix-220.jpeg\n",
      "pheasant  :  ./dataset/pheasant\\prefix-315.jpeg\n",
      "pheasant  :  ./dataset/pheasant\\野鸡_019.jpeg\n",
      "pheasant  :  ./dataset/pheasant\\野鸡_206.jpeg\n",
      "white whale  :  ./dataset/white whale\\prefix-003.jpeg\n",
      "white whale  :  ./dataset/white whale\\White whale_012.jpeg\n",
      "white whale  :  ./dataset/white whale\\White whale_035.jpeg\n",
      "white whale  :  ./dataset/white whale\\White whale_070.jpeg\n",
      "white whale  :  ./dataset/white whale\\White whale_136.jpeg\n",
      "white whale  :  ./dataset/white whale\\White whale_177.jpeg\n",
      "white whale  :  ./dataset/white whale\\White whale_229.jpeg\n",
      "white whale  :  ./dataset/white whale\\White whale_325.jpeg\n"
     ]
    }
   ],
   "source": [
    "# img_dir = './binary_img_data/imgs'\n",
    "img_dir = './dataset'\n",
    "categories = ['Cat', 'Hedgehog', 'autocycle', 'car', 'Crow', 'gold fish', 'horse', 'human', 'pheasant', 'white whale']\n",
    "np_classes = len(categories)\n",
    "\n",
    "image_w = 64\n",
    "image_h = 64\n",
    "\n",
    "pixel = image_h * image_w\n",
    "\n",
    "X = []\n",
    "y = []\n",
    "\n",
    "for idx, cat in enumerate(categories):\n",
    "    img_dir_detail = img_dir + '/' + cat\n",
    "    files = glob.glob(img_dir_detail + '/*.jpeg')\n",
    "    \n",
    "    for i, f in enumerate(files):\n",
    "        try:\n",
    "            img = Image.open(f)\n",
    "            img = img.convert('RGB')\n",
    "            img = img.resize((image_w, image_h))\n",
    "            data = np.asarray(img)\n",
    "            X.append(data)\n",
    "            y.append(idx)\n",
    "            if i % 20 == 0:\n",
    "                print(cat, \" : \", f)\n",
    "        except:\n",
    "            print(cat, str(i) + \" 번째에서 에러\")\n",
    "\n",
    "X = np.array(X)\n",
    "Y = np.array(y)"
   ]
  },
  {
   "cell_type": "code",
   "execution_count": 40,
   "metadata": {},
   "outputs": [
    {
     "data": {
      "text/plain": [
       "((2467, 64, 64, 3), (2467,))"
      ]
     },
     "execution_count": 40,
     "metadata": {},
     "output_type": "execute_result"
    }
   ],
   "source": [
    "X.shape, Y.shape"
   ]
  },
  {
   "cell_type": "code",
   "execution_count": 41,
   "metadata": {},
   "outputs": [],
   "source": [
    "X_train, X_test, Y_train, Y_test = train_test_split(X,Y, test_size=0.25)\n",
    "xy = (X_train, X_test, Y_train, Y_test)\n",
    "np.save('./numpy_data/binary_10kinds_data.npy', xy)"
   ]
  },
  {
   "cell_type": "code",
   "execution_count": null,
   "metadata": {},
   "outputs": [],
   "source": []
  },
  {
   "cell_type": "markdown",
   "metadata": {},
   "source": [
    "#### 기본 세팅값"
   ]
  },
  {
   "cell_type": "markdown",
   "metadata": {},
   "source": [
    "#### 데이터 바이너리화"
   ]
  },
  {
   "cell_type": "code",
   "execution_count": 3,
   "metadata": {
    "scrolled": true
   },
   "outputs": [
    {
     "name": "stdout",
     "output_type": "stream",
     "text": [
      "(1850, 64, 64, 3) (617, 64, 64, 3)\n",
      "1850\n"
     ]
    }
   ],
   "source": [
    "X_train, X_test, y_train, y_test = np.load('./numpy_data/binary_10kinds_data.npy', allow_pickle=True)\n",
    "print(X_train.shape, X_test.shape)\n",
    "print(X_train.shape[0])\n"
   ]
  },
  {
   "cell_type": "code",
   "execution_count": 4,
   "metadata": {},
   "outputs": [],
   "source": [
    "X_train = X_train.astype('float32') / 255\n",
    "X_test = X_test.astype('float32') / 255"
   ]
  },
  {
   "cell_type": "code",
   "execution_count": 10,
   "metadata": {},
   "outputs": [],
   "source": [
    "y_train = np_utils.to_categorical(y_train)\n",
    "y_test = np_utils.to_categorical(y_test)"
   ]
  }
 ],
 "metadata": {
  "kernelspec": {
   "display_name": "Python 3",
   "language": "python",
   "name": "python3"
  },
  "language_info": {
   "codemirror_mode": {
    "name": "ipython",
    "version": 3
   },
   "file_extension": ".py",
   "mimetype": "text/x-python",
   "name": "python",
   "nbconvert_exporter": "python",
   "pygments_lexer": "ipython3",
   "version": "3.7.4"
  }
 },
 "nbformat": 4,
 "nbformat_minor": 2
}
