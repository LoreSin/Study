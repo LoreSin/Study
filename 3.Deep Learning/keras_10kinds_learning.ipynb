{
 "cells": [
  {
   "cell_type": "code",
   "execution_count": 0,
   "metadata": {
    "colab": {},
    "colab_type": "code",
    "id": "aA8ZmHPrDLF4"
   },
   "outputs": [],
   "source": [
    "from keras.utils import np_utils\n",
    "import numpy as np\n",
    "\n",
    "X_train, X_test, Y_train, Y_test = np.load('binary_10kinds_data.npy', allow_pickle=True)"
   ]
  },
  {
   "cell_type": "code",
   "execution_count": 0,
   "metadata": {
    "colab": {},
    "colab_type": "code",
    "id": "uZzxUmF4DSOp"
   },
   "outputs": [],
   "source": [
    "X_train = X_train.astype('float32')\n",
    "X_test = X_test.astype('float32')\n",
    "X_train = X_train / 255.0\n",
    "X_test = X_test / 255.0\n",
    "\n",
    "from keras.utils import np_utils\n",
    "Y_train = np_utils.to_categorical(Y_train)\n",
    "Y_test = np_utils.to_categorical(Y_test)"
   ]
  },
  {
   "cell_type": "code",
   "execution_count": 0,
   "metadata": {
    "colab": {
     "base_uri": "https://localhost:8080/",
     "height": 35
    },
    "colab_type": "code",
    "id": "5U9Q1VPNy_Du",
    "outputId": "08620c81-bec8-4064-eddc-7c5b32e5c680"
   },
   "outputs": [
    {
     "data": {
      "text/plain": [
       "((1850, 64, 64, 3), (1850, 10))"
      ]
     },
     "execution_count": 6,
     "metadata": {
      "tags": []
     },
     "output_type": "execute_result"
    }
   ],
   "source": [
    "X_train.shape, Y_train.shape"
   ]
  },
  {
   "cell_type": "code",
   "execution_count": 0,
   "metadata": {
    "colab": {
     "base_uri": "https://localhost:8080/",
     "height": 433
    },
    "colab_type": "code",
    "id": "DFCB_gAx0hAv",
    "outputId": "a6cee225-255a-4011-a149-61300630b1eb"
   },
   "outputs": [
    {
     "name": "stdout",
     "output_type": "stream",
     "text": [
      "Train on 1850 samples, validate on 617 samples\n",
      "Epoch 1/10\n",
      "1850/1850 [==============================] - 5s 3ms/step - loss: 10.8852 - acc: 0.1859 - val_loss: 12.9572 - val_acc: 0.1961\n",
      "Epoch 2/10\n",
      "1850/1850 [==============================] - 4s 2ms/step - loss: 12.9516 - acc: 0.1962 - val_loss: 12.9495 - val_acc: 0.1961\n",
      "Epoch 3/10\n",
      "1850/1850 [==============================] - 4s 2ms/step - loss: 9.1855 - acc: 0.1897 - val_loss: 2.2247 - val_acc: 0.0989\n",
      "Epoch 4/10\n",
      "1850/1850 [==============================] - 4s 2ms/step - loss: 2.8278 - acc: 0.1908 - val_loss: 9.2243 - val_acc: 0.2042\n",
      "Epoch 5/10\n",
      "1850/1850 [==============================] - 4s 2ms/step - loss: 3.5109 - acc: 0.1065 - val_loss: 2.3596 - val_acc: 0.0778\n",
      "Epoch 6/10\n",
      "1850/1850 [==============================] - 4s 2ms/step - loss: 4.1362 - acc: 0.1438 - val_loss: 2.2931 - val_acc: 0.1524\n",
      "Epoch 7/10\n",
      "1850/1850 [==============================] - 4s 2ms/step - loss: 2.4800 - acc: 0.1622 - val_loss: 2.2472 - val_acc: 0.1524\n",
      "Epoch 8/10\n",
      "1850/1850 [==============================] - 4s 2ms/step - loss: 2.1819 - acc: 0.1832 - val_loss: 2.1581 - val_acc: 0.1880\n",
      "Epoch 9/10\n",
      "1850/1850 [==============================] - 4s 2ms/step - loss: 2.0691 - acc: 0.2524 - val_loss: 1.9624 - val_acc: 0.2934\n",
      "Epoch 10/10\n",
      "1850/1850 [==============================] - 4s 2ms/step - loss: 1.9550 - acc: 0.3059 - val_loss: 1.8756 - val_acc: 0.3339\n"
     ]
    },
    {
     "data": {
      "text/plain": [
       "<keras.callbacks.History at 0x7fb071e0aa58>"
      ]
     },
     "execution_count": 13,
     "metadata": {
      "tags": []
     },
     "output_type": "execute_result"
    }
   ],
   "source": [
    "from keras.optimizers import SGD\n",
    "epochs = 10\n",
    "lrate = 0.1\n",
    "decay = lrate / epochs\n",
    "sgd = SGD(lr=lrate, momentum=0.9, decay=decay, nesterov=False)\n",
    "model.compile(loss='categorical_crossentropy', optimizer=sgd, metrics=['accuracy'])\n",
    "model.fit(X_train, Y_train, validation_data=(X_test, Y_test), epochs=epochs, batch_size=300)"
   ]
  },
  {
   "cell_type": "code",
   "execution_count": 0,
   "metadata": {
    "colab": {
     "base_uri": "https://localhost:8080/",
     "height": 35
    },
    "colab_type": "code",
    "id": "tjL855AZDrlv",
    "outputId": "4fbec9c4-9be6-480e-d474-c72788dc97b0"
   },
   "outputs": [
    {
     "name": "stdout",
     "output_type": "stream",
     "text": [
      "Accuracy: 33.39%\n"
     ]
    }
   ],
   "source": [
    "import os\n",
    "model_json = model.to_json()\n",
    "with open('model.json', 'w') as json_file:\n",
    "    json_file.write(model_json)\n",
    "model.save_weights(os.path.join(os.getcwd(), 'model.h5'))\n",
    "\n",
    "scores = model.evaluate(X_test, Y_test, verbose=0)\n",
    "print('Accuracy: %.2f%%' % (scores[1]*100))"
   ]
  },
  {
   "cell_type": "code",
   "execution_count": 0,
   "metadata": {
    "colab": {},
    "colab_type": "code",
    "id": "ggSFAuxCGy1J"
   },
   "outputs": [],
   "source": [
    "from keras.optimizers import Adam, Adagrad"
   ]
  },
  {
   "cell_type": "markdown",
   "metadata": {
    "colab_type": "text",
    "id": "dunTcvMpG1XX"
   },
   "source": [
    "**Inception V3 **"
   ]
  },
  {
   "cell_type": "code",
   "execution_count": 0,
   "metadata": {
    "colab": {
     "base_uri": "https://localhost:8080/",
     "height": 1000
    },
    "colab_type": "code",
    "id": "0WVhBGGKGzoI",
    "outputId": "ef68cb9f-3e03-4eba-d374-d8f0918ab46e"
   },
   "outputs": [
    {
     "name": "stdout",
     "output_type": "stream",
     "text": [
      "Model: \"model_21\"\n",
      "__________________________________________________________________________________________________\n",
      "Layer (type)                    Output Shape         Param #     Connected to                     \n",
      "==================================================================================================\n",
      "input_21 (InputLayer)           (None, 64, 64, 3)    0                                            \n",
      "__________________________________________________________________________________________________\n",
      "conv2d_141 (Conv2D)             (None, 64, 64, 64)   256         input_21[0][0]                   \n",
      "__________________________________________________________________________________________________\n",
      "conv2d_138 (Conv2D)             (None, 64, 64, 64)   256         input_21[0][0]                   \n",
      "__________________________________________________________________________________________________\n",
      "max_pooling2d_21 (MaxPooling2D) (None, 64, 64, 3)    0           input_21[0][0]                   \n",
      "__________________________________________________________________________________________________\n",
      "conv2d_142 (Conv2D)             (None, 64, 64, 64)   36928       conv2d_141[0][0]                 \n",
      "__________________________________________________________________________________________________\n",
      "conv2d_137 (Conv2D)             (None, 64, 64, 64)   256         input_21[0][0]                   \n",
      "__________________________________________________________________________________________________\n",
      "conv2d_139 (Conv2D)             (None, 64, 64, 64)   36928       conv2d_138[0][0]                 \n",
      "__________________________________________________________________________________________________\n",
      "conv2d_140 (Conv2D)             (None, 64, 64, 64)   1792        max_pooling2d_21[0][0]           \n",
      "__________________________________________________________________________________________________\n",
      "conv2d_143 (Conv2D)             (None, 64, 64, 64)   36928       conv2d_142[0][0]                 \n",
      "__________________________________________________________________________________________________\n",
      "concatenate_21 (Concatenate)    (None, 64, 64, 256)  0           conv2d_137[0][0]                 \n",
      "                                                                 conv2d_139[0][0]                 \n",
      "                                                                 conv2d_140[0][0]                 \n",
      "                                                                 conv2d_143[0][0]                 \n",
      "__________________________________________________________________________________________________\n",
      "flatten_21 (Flatten)            (None, 1048576)      0           concatenate_21[0][0]             \n",
      "__________________________________________________________________________________________________\n",
      "dense_21 (Dense)                (None, 10)           10485770    flatten_21[0][0]                 \n",
      "==================================================================================================\n",
      "Total params: 10,599,114\n",
      "Trainable params: 10,599,114\n",
      "Non-trainable params: 0\n",
      "__________________________________________________________________________________________________\n",
      "None\n",
      "Train on 1850 samples, validate on 617 samples\n",
      "Epoch 1/10\n",
      "1850/1850 [==============================] - 10s 5ms/step - loss: 7.9441 - acc: 0.1600 - val_loss: 5.9550 - val_acc: 0.2885\n",
      "Epoch 2/10\n",
      "1850/1850 [==============================] - 7s 4ms/step - loss: 2.8555 - acc: 0.2784 - val_loss: 1.9891 - val_acc: 0.2739\n",
      "Epoch 3/10\n",
      "1850/1850 [==============================] - 7s 4ms/step - loss: 1.8720 - acc: 0.3335 - val_loss: 1.7233 - val_acc: 0.4230\n",
      "Epoch 4/10\n",
      "1850/1850 [==============================] - 7s 4ms/step - loss: 1.5912 - acc: 0.4486 - val_loss: 1.4822 - val_acc: 0.4473\n",
      "Epoch 5/10\n",
      "1850/1850 [==============================] - 7s 4ms/step - loss: 1.5693 - acc: 0.4611 - val_loss: 1.5112 - val_acc: 0.4408\n",
      "Epoch 6/10\n",
      "1850/1850 [==============================] - 7s 4ms/step - loss: 1.3648 - acc: 0.5616 - val_loss: 1.3871 - val_acc: 0.4895\n",
      "Epoch 7/10\n",
      "1850/1850 [==============================] - 7s 4ms/step - loss: 1.1833 - acc: 0.5897 - val_loss: 1.2255 - val_acc: 0.5770\n",
      "Epoch 8/10\n",
      "1850/1850 [==============================] - 7s 4ms/step - loss: 1.0684 - acc: 0.6232 - val_loss: 1.2304 - val_acc: 0.5883\n",
      "Epoch 9/10\n",
      "1850/1850 [==============================] - 7s 4ms/step - loss: 1.0153 - acc: 0.6584 - val_loss: 1.0245 - val_acc: 0.6321\n",
      "Epoch 10/10\n",
      "1850/1850 [==============================] - 7s 4ms/step - loss: 0.8501 - acc: 0.7119 - val_loss: 0.9515 - val_acc: 0.6629\n"
     ]
    },
    {
     "data": {
      "text/plain": [
       "<keras.callbacks.History at 0x7fb06fd06d68>"
      ]
     },
     "execution_count": 59,
     "metadata": {
      "tags": []
     },
     "output_type": "execute_result"
    }
   ],
   "source": [
    "from keras.layers import Input\n",
    "input_img = Input(shape = (64,64,3))\n",
    "\n",
    "from keras.layers import Conv2D, MaxPool2D, AvgPool2D\n",
    "tower_1 = Conv2D(64, (1,1), padding='same', activation='relu')(input_img)\n",
    "\n",
    "tower_2 = Conv2D(64, (1,1), padding='same', activation='relu')(input_img)\n",
    "tower_2 = Conv2D(64, (3,3), padding='same', activation='relu')(tower_2)\n",
    "\n",
    "tower_3 = MaxPool2D((3,3), strides=(1,1), padding='same')(input_img)\n",
    "tower_3 = Conv2D(64, (3,3), padding='same', activation='relu')(tower_3)\n",
    "\n",
    "tower_4 = Conv2D(64, (1,1), padding='same', activation='relu')(input_img)\n",
    "tower_4 = Conv2D(64, (3,3), padding='same', activation='relu')(tower_4)\n",
    "tower_4 = Conv2D(64, (3,3), padding='same', activation='relu')(tower_4)\n",
    "\n",
    "\n",
    "output = keras.layers.concatenate([tower_1, tower_2, tower_3, tower_4], axis=3)\n",
    "\n",
    "from keras.layers import Flatten, Dense\n",
    "output = Flatten()(output)\n",
    "out = Dense(10, activation='softmax')(output)\n",
    "\n",
    "from keras.models import Model\n",
    "model = Model(inputs=input_img, outputs=out)\n",
    "print(model.summary())\n",
    "\n",
    "epochs = 10\n",
    "lrate = 0.01\n",
    "# decay = lrate / epochs\n",
    "decay = 0.0\n",
    "optimizer = SGD(lr=lrate, momentum=0.9, decay=decay, nesterov=False)\n",
    "\n",
    "# lr=0.01\n",
    "# beta_1=0.9\n",
    "# beta_2=0.999\n",
    "# optimizer = Adam(lr, beta_1, beta_2)\n",
    "\n",
    "# lr=0.01\n",
    "# eps = 0.1\n",
    "# optimizer = Adagrad(lr, eps)\n",
    "\n",
    "model.compile(loss='categorical_crossentropy', optimizer=optimizer, metrics=['accuracy'])\n",
    "model.fit(X_train, Y_train, validation_data=(X_test, Y_test), epochs=epochs, batch_size=300)\n"
   ]
  },
  {
   "cell_type": "code",
   "execution_count": 0,
   "metadata": {
    "colab": {},
    "colab_type": "code",
    "id": "EErvmcv8Gzjw"
   },
   "outputs": [],
   "source": [
    "scores = model.evaluate(X_test, Y_test, verbose=0)\n",
    "print('Accuracy: %.2f%%' % (scores[1]*100))"
   ]
  },
  {
   "cell_type": "code",
   "execution_count": 0,
   "metadata": {
    "colab": {},
    "colab_type": "code",
    "id": "MO6lgb4gKXJI"
   },
   "outputs": [],
   "source": [
    "# X_test[np.argmax(Y_test, axis=1) == 0]\n",
    "Y_test[np.argmax(Y_test, axis=1) == 0]"
   ]
  },
  {
   "cell_type": "markdown",
   "metadata": {
    "colab_type": "text",
    "id": "IANCCW_63FMB"
   },
   "source": []
  },
  {
   "cell_type": "code",
   "execution_count": 0,
   "metadata": {
    "colab": {
     "base_uri": "https://localhost:8080/",
     "height": 35
    },
    "colab_type": "code",
    "id": "nkM8CcFoBoxj",
    "outputId": "a90e95e5-0444-44ff-aaec-a4bd8fd51ec1"
   },
   "outputs": [
    {
     "data": {
      "text/plain": [
       "((1850, 64, 64, 3), (1850, 10))"
      ]
     },
     "execution_count": 72,
     "metadata": {
      "tags": []
     },
     "output_type": "execute_result"
    }
   ],
   "source": [
    "X_train.shape, Y_train.shape\n"
   ]
  },
  {
   "cell_type": "code",
   "execution_count": 0,
   "metadata": {
    "colab": {
     "base_uri": "https://localhost:8080/",
     "height": 197
    },
    "colab_type": "code",
    "id": "m3f_uwFuGzQZ",
    "outputId": "d0375bb5-9cd1-43ac-d768-2a77ab469733"
   },
   "outputs": [
    {
     "name": "stdout",
     "output_type": "stream",
     "text": [
      "0  :: Accuracy: 65.96%\n",
      "1  :: Accuracy: 75.26%\n",
      "2  :: Accuracy: 50.00%\n",
      "3  :: Accuracy: 75.21%\n",
      "4  :: Accuracy: 60.42%\n",
      "5  :: Accuracy: 89.74%\n",
      "6  :: Accuracy: 68.18%\n",
      "7  :: Accuracy: 76.36%\n",
      "8  :: Accuracy: 13.56%\n",
      "9  :: Accuracy: 77.08%\n"
     ]
    }
   ],
   "source": [
    "for n in range(10):\n",
    "  Xt = X_test[np.argmax(Y_test, axis=1) == n]\n",
    "  Yt = Y_test[np.argmax(Y_test, axis=1) == n]\n",
    "  scores = model.evaluate(Xt, Yt, verbose=0)\n",
    "  print(n, ' :: Accuracy: %.2f%%' % (scores[1]*100))"
   ]
  }
 ],
 "metadata": {
  "accelerator": "GPU",
  "colab": {
   "collapsed_sections": [],
   "name": "keras 10kinds.ipynb",
   "provenance": [],
   "toc_visible": true
  },
  "kernelspec": {
   "display_name": "Python 3",
   "language": "python",
   "name": "python3"
  },
  "language_info": {
   "codemirror_mode": {
    "name": "ipython",
    "version": 3
   },
   "file_extension": ".py",
   "mimetype": "text/x-python",
   "name": "python",
   "nbconvert_exporter": "python",
   "pygments_lexer": "ipython3",
   "version": "3.7.4"
  }
 },
 "nbformat": 4,
 "nbformat_minor": 1
}
