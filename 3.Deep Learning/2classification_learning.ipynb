{
 "cells": [
  {
   "cell_type": "markdown",
   "metadata": {},
   "source": [
    "## 데이터 전처리"
   ]
  },
  {
   "cell_type": "code",
   "execution_count": 1,
   "metadata": {},
   "outputs": [
    {
     "name": "stderr",
     "output_type": "stream",
     "text": [
      "Using TensorFlow backend.\n"
     ]
    }
   ],
   "source": [
    "from PIL import Image\n",
    "import os, glob, sys, numpy as np\n",
    "from sklearn.model_selection import train_test_split\n",
    "from keras.utils import np_utils"
   ]
  },
  {
   "cell_type": "code",
   "execution_count": null,
   "metadata": {},
   "outputs": [],
   "source": []
  },
  {
   "cell_type": "code",
   "execution_count": null,
   "metadata": {},
   "outputs": [],
   "source": []
  },
  {
   "cell_type": "code",
   "execution_count": 30,
   "metadata": {},
   "outputs": [
    {
     "name": "stdout",
     "output_type": "stream",
     "text": [
      "Cat  :  ./dataset/Cat\\cat_003.jpeg\n",
      "Cat  :  ./dataset/Cat\\cat_018 (2).jpeg\n",
      "Cat  :  ./dataset/Cat\\cat_035.jpeg\n",
      "Cat  :  ./dataset/Cat\\cat_056.jpeg\n",
      "Cat  :  ./dataset/Cat\\cat_075.jpeg\n",
      "Cat  :  ./dataset/Cat\\cat_099.jpeg\n",
      "Cat  :  ./dataset/Cat\\cat_136.jpeg\n",
      "Cat  :  ./dataset/Cat\\cat_162 (2).jpeg\n",
      "Cat  :  ./dataset/Cat\\cat_181.jpeg\n",
      "Cat  :  ./dataset/Cat\\cat_209.jpeg\n",
      "Cat  :  ./dataset/Cat\\cat_240.jpeg\n",
      "Cat  :  ./dataset/Cat\\cat_263.jpeg\n",
      "Cat  :  ./dataset/Cat\\cat_293.jpeg\n",
      "Cat  :  ./dataset/Cat\\cat_323.jpeg\n",
      "Cat  :  ./dataset/Cat\\cat_361.jpeg\n",
      "Cat  :  ./dataset/Cat\\cat_414.jpeg\n",
      "Cat  :  ./dataset/Cat\\cat_489.jpeg\n",
      "Cat  :  ./dataset/Cat\\cat_553.jpeg\n",
      "Cat  :  ./dataset/Cat\\cat_605.jpeg\n",
      "Cat  :  ./dataset/Cat\\cat_658.jpeg\n",
      "Hedgehog  :  ./dataset/Hedgehog\\hedgehog-004.jpeg\n",
      "Hedgehog  :  ./dataset/Hedgehog\\hedgehog-029.jpeg\n",
      "Hedgehog  :  ./dataset/Hedgehog\\hedgehog-067.jpeg\n",
      "Hedgehog  :  ./dataset/Hedgehog\\hedgehog-106.jpeg\n",
      "Hedgehog  :  ./dataset/Hedgehog\\hedgehog-138.jpeg\n",
      "Hedgehog  :  ./dataset/Hedgehog\\hedgehog-209.jpeg\n",
      "Hedgehog  :  ./dataset/Hedgehog\\hedgehog-303.jpeg\n",
      "Hedgehog  :  ./dataset/Hedgehog\\hedgehog-365.jpeg\n",
      "Hedgehog  :  ./dataset/Hedgehog\\hodgehod__169.jpeg\n",
      "Hedgehog  :  ./dataset/Hedgehog\\hodgehod__212.jpeg\n",
      "Hedgehog  :  ./dataset/Hedgehog\\hodgehod__235.jpeg\n",
      "Hedgehog  :  ./dataset/Hedgehog\\hodgehod__265.jpeg\n",
      "Hedgehog  :  ./dataset/Hedgehog\\hodgehod__304.jpeg\n",
      "Hedgehog  :  ./dataset/Hedgehog\\hodgehod__353.jpeg\n",
      "Hedgehog  :  ./dataset/Hedgehog\\hodgehod__400.jpeg\n",
      "Hedgehog  :  ./dataset/Hedgehog\\hodgehod__464.jpeg\n",
      "Hedgehog  :  ./dataset/Hedgehog\\hodgehod__504.jpeg\n",
      "Hedgehog  :  ./dataset/Hedgehog\\hodgehod__537.jpeg\n",
      "Hedgehog  :  ./dataset/Hedgehog\\hodgehod__584.jpeg\n",
      "Hedgehog  :  ./dataset/Hedgehog\\刺猬_033.jpeg\n",
      "Hedgehog  :  ./dataset/Hedgehog\\刺猬_107.jpeg\n",
      "Hedgehog  :  ./dataset/Hedgehog\\刺猬_170.jpeg\n"
     ]
    }
   ],
   "source": [
    "# img_dir = './binary_img_data/imgs'\n",
    "img_dir = './dataset'\n",
    "categories = ['Cat', 'Hedgehog']\n",
    "np_classes = len(categories)\n",
    "\n",
    "image_w = 64\n",
    "image_h = 64\n",
    "\n",
    "pixel = image_h * image_w\n",
    "\n",
    "X = []\n",
    "y = []\n",
    "\n",
    "for idx, cat in enumerate(categories):\n",
    "    img_dir_detail = img_dir + '/' + cat\n",
    "    files = glob.glob(img_dir_detail + '/*.jpeg')\n",
    "    \n",
    "    for i, f in enumerate(files):\n",
    "        try:\n",
    "            img = Image.open(f)\n",
    "            img = img.convert('RGB')\n",
    "            img = img.resize((image_w, image_h))\n",
    "            data = np.asarray(img)\n",
    "            X.append(data)\n",
    "            y.append(idx)\n",
    "            if i % 20 == 0:\n",
    "                print(cat, \" : \", f)\n",
    "        except:\n",
    "            print(cat, str(i) + \" 번째에서 에러\")\n",
    "\n",
    "X = np.array(X)\n",
    "Y = np.array(y)"
   ]
  },
  {
   "cell_type": "code",
   "execution_count": 2,
   "metadata": {},
   "outputs": [
    {
     "data": {
      "text/plain": [
       "(819, 64, 64, 3)"
      ]
     },
     "execution_count": 2,
     "metadata": {},
     "output_type": "execute_result"
    }
   ],
   "source": [
    "X.shape"
   ]
  },
  {
   "cell_type": "markdown",
   "metadata": {},
   "source": [
    "## 테스트셋 분류"
   ]
  },
  {
   "cell_type": "code",
   "execution_count": 31,
   "metadata": {},
   "outputs": [],
   "source": [
    "X_train, X_test, Y_train, Y_test = train_test_split(X,Y, test_size=0.25)\n",
    "xy = (X_train, X_test, Y_train, Y_test)\n",
    "np.save('./numpy_data/binary_image_data.npy', xy)"
   ]
  },
  {
   "cell_type": "markdown",
   "metadata": {},
   "source": [
    "## 케라스 라이브러리"
   ]
  },
  {
   "cell_type": "code",
   "execution_count": 3,
   "metadata": {},
   "outputs": [],
   "source": [
    "from keras.models import Sequential\n",
    "from keras.layers import Conv2D, MaxPool2D, Dense, Flatten, Dropout\n",
    "from keras.callbacks import EarlyStopping, ModelCheckpoint, TensorBoard\n",
    "import matplotlib.pyplot as plt\n",
    "import keras.backend.tensorflow_backend as K"
   ]
  },
  {
   "cell_type": "code",
   "execution_count": null,
   "metadata": {},
   "outputs": [],
   "source": []
  },
  {
   "cell_type": "markdown",
   "metadata": {},
   "source": [
    "## Data load"
   ]
  },
  {
   "cell_type": "code",
   "execution_count": 4,
   "metadata": {},
   "outputs": [
    {
     "name": "stdout",
     "output_type": "stream",
     "text": [
      "(614, 64, 64, 3) (205, 64, 64, 3)\n",
      "614\n",
      "[299 315]\n",
      "[ 96 109]\n"
     ]
    }
   ],
   "source": [
    "X_train, X_test, y_train, y_test = np.load('./numpy_data/binary_image_data.npy', allow_pickle=True)\n",
    "print(X_train.shape, X_test.shape)\n",
    "print(X_train.shape[0])\n",
    "print(np.bincount(y_train))\n",
    "print(np.bincount(y_test))"
   ]
  },
  {
   "cell_type": "markdown",
   "metadata": {},
   "source": [
    "## 모델 쌓기"
   ]
  },
  {
   "cell_type": "code",
   "execution_count": 5,
   "metadata": {},
   "outputs": [],
   "source": [
    "image_w = 64\n",
    "image_h = 64\n",
    "X_train = X_train.astype('float32') / 255\n",
    "X_test = X_test.astype('float32') / 255\n",
    "# 2진화. 한번만 실행하기"
   ]
  },
  {
   "cell_type": "markdown",
   "metadata": {},
   "source": [
    "### 모델 준비"
   ]
  },
  {
   "cell_type": "code",
   "execution_count": 6,
   "metadata": {},
   "outputs": [],
   "source": [
    "from time import time"
   ]
  },
  {
   "cell_type": "code",
   "execution_count": 7,
   "metadata": {},
   "outputs": [],
   "source": [
    "tensorboard = TensorBoard(log_dir=\"logs/{}\".format(time()))"
   ]
  },
  {
   "cell_type": "code",
   "execution_count": 8,
   "metadata": {},
   "outputs": [
    {
     "name": "stderr",
     "output_type": "stream",
     "text": [
      "WARNING: Logging before flag parsing goes to stderr.\n",
      "W1010 11:02:39.952402  6136 deprecation_wrapper.py:119] From C:\\ProgramData\\Anaconda3\\envs\\OPENCV_PYTHON\\lib\\site-packages\\keras\\backend\\tensorflow_backend.py:66: The name tf.get_default_graph is deprecated. Please use tf.compat.v1.get_default_graph instead.\n",
      "\n",
      "W1010 11:02:39.954402  6136 deprecation_wrapper.py:119] From C:\\ProgramData\\Anaconda3\\envs\\OPENCV_PYTHON\\lib\\site-packages\\keras\\backend\\tensorflow_backend.py:541: The name tf.placeholder is deprecated. Please use tf.compat.v1.placeholder instead.\n",
      "\n",
      "W1010 11:02:39.958402  6136 deprecation_wrapper.py:119] From C:\\ProgramData\\Anaconda3\\envs\\OPENCV_PYTHON\\lib\\site-packages\\keras\\backend\\tensorflow_backend.py:4432: The name tf.random_uniform is deprecated. Please use tf.random.uniform instead.\n",
      "\n",
      "W1010 11:02:39.981402  6136 deprecation_wrapper.py:119] From C:\\ProgramData\\Anaconda3\\envs\\OPENCV_PYTHON\\lib\\site-packages\\keras\\backend\\tensorflow_backend.py:4267: The name tf.nn.max_pool is deprecated. Please use tf.nn.max_pool2d instead.\n",
      "\n",
      "W1010 11:02:40.018402  6136 deprecation_wrapper.py:119] From C:\\ProgramData\\Anaconda3\\envs\\OPENCV_PYTHON\\lib\\site-packages\\keras\\backend\\tensorflow_backend.py:148: The name tf.placeholder_with_default is deprecated. Please use tf.compat.v1.placeholder_with_default instead.\n",
      "\n",
      "W1010 11:02:40.025402  6136 deprecation.py:506] From C:\\ProgramData\\Anaconda3\\envs\\OPENCV_PYTHON\\lib\\site-packages\\keras\\backend\\tensorflow_backend.py:3733: calling dropout (from tensorflow.python.ops.nn_ops) with keep_prob is deprecated and will be removed in a future version.\n",
      "Instructions for updating:\n",
      "Please use `rate` instead of `keep_prob`. Rate should be set to `rate = 1 - keep_prob`.\n",
      "W1010 11:02:40.114402  6136 deprecation_wrapper.py:119] From C:\\ProgramData\\Anaconda3\\envs\\OPENCV_PYTHON\\lib\\site-packages\\keras\\optimizers.py:793: The name tf.train.Optimizer is deprecated. Please use tf.compat.v1.train.Optimizer instead.\n",
      "\n",
      "W1010 11:02:40.133402  6136 deprecation_wrapper.py:119] From C:\\ProgramData\\Anaconda3\\envs\\OPENCV_PYTHON\\lib\\site-packages\\keras\\backend\\tensorflow_backend.py:3657: The name tf.log is deprecated. Please use tf.math.log instead.\n",
      "\n",
      "W1010 11:02:40.138402  6136 deprecation.py:323] From C:\\ProgramData\\Anaconda3\\envs\\OPENCV_PYTHON\\lib\\site-packages\\tensorflow\\python\\ops\\nn_impl.py:180: add_dispatch_support.<locals>.wrapper (from tensorflow.python.ops.array_ops) is deprecated and will be removed in a future version.\n",
      "Instructions for updating:\n",
      "Use tf.where in 2.0, which has the same broadcast rule as np.where\n"
     ]
    }
   ],
   "source": [
    "with K.tf_ops.device('/cpu:0'):\n",
    "    model = Sequential()\n",
    "    model.add(Conv2D(32, (3,3), padding=\"same\", input_shape=X_train.shape[1:], activation=\"relu\"))\n",
    "    model.add(MaxPool2D(pool_size=(2,2)))\n",
    "    model.add(Conv2D(32, (3,3), padding=\"same\", activation=\"relu\"))\n",
    "    model.add(MaxPool2D(pool_size=(2,2)))\n",
    "    \n",
    "    model.add(Conv2D(64, (3,3), padding=\"same\", activation=\"relu\"))\n",
    "    model.add(MaxPool2D(pool_size=(2,2)))\n",
    "    model.add(Dropout(0.25))\n",
    "\n",
    "    model.add(Conv2D(64, (3,3), padding=\"same\", activation=\"relu\"))\n",
    "    model.add(MaxPool2D(pool_size=(2,2)))\n",
    "    model.add(Dropout(0.25))\n",
    "    \n",
    "    model.add(Flatten())\n",
    "    model.add(Dense(256, activation='relu'))\n",
    "    model.add(Dropout(0.5))\n",
    "    model.add(Dense(1, activation='sigmoid'))\n",
    "    \n",
    "    model.compile(loss='binary_crossentropy', optimizer='adam', metrics=['accuracy'])\n",
    "    \n",
    "    \n",
    "    model_dir = './model'\n",
    "    if not os.path.exists(model_dir):\n",
    "        os.mkdir(model_dir)\n",
    "    model_path = model_dir + \"/cat_hedgehog_classify.model\"\n",
    "\n",
    "    checkpoint = ModelCheckpoint(filepath=model_path, monitor='val_loss', verbose=1, save_best_only=True)\n",
    "    early_stopping = EarlyStopping(monitor='val_loss', patience=7)"
   ]
  },
  {
   "cell_type": "code",
   "execution_count": 11,
   "metadata": {
    "scrolled": true
   },
   "outputs": [
    {
     "name": "stdout",
     "output_type": "stream",
     "text": [
      "Train on 521 samples, validate on 93 samples\n"
     ]
    },
    {
     "name": "stderr",
     "output_type": "stream",
     "text": [
      "W1010 11:03:15.734402  6136 deprecation_wrapper.py:119] From C:\\ProgramData\\Anaconda3\\envs\\OPENCV_PYTHON\\lib\\site-packages\\keras\\callbacks.py:1122: The name tf.summary.merge_all is deprecated. Please use tf.compat.v1.summary.merge_all instead.\n",
      "\n",
      "W1010 11:03:15.735402  6136 deprecation_wrapper.py:119] From C:\\ProgramData\\Anaconda3\\envs\\OPENCV_PYTHON\\lib\\site-packages\\keras\\callbacks.py:1125: The name tf.summary.FileWriter is deprecated. Please use tf.compat.v1.summary.FileWriter instead.\n",
      "\n"
     ]
    },
    {
     "name": "stdout",
     "output_type": "stream",
     "text": [
      "Epoch 1/20\n",
      "521/521 [==============================] - 2s 3ms/step - loss: 0.7052 - acc: 0.5182 - val_loss: 0.6789 - val_acc: 0.5376\n",
      "\n",
      "Epoch 00001: val_loss improved from inf to 0.67893, saving model to ./model/cat_hedgehog_classify.model\n",
      "Epoch 2/20\n",
      "521/521 [==============================] - 1s 2ms/step - loss: 0.6731 - acc: 0.5566 - val_loss: 0.6122 - val_acc: 0.5376\n",
      "\n",
      "Epoch 00002: val_loss improved from 0.67893 to 0.61220, saving model to ./model/cat_hedgehog_classify.model\n",
      "Epoch 3/20\n",
      "521/521 [==============================] - 1s 2ms/step - loss: 0.6071 - acc: 0.7121 - val_loss: 0.5526 - val_acc: 0.6882\n",
      "\n",
      "Epoch 00003: val_loss improved from 0.61220 to 0.55262, saving model to ./model/cat_hedgehog_classify.model\n",
      "Epoch 4/20\n",
      "521/521 [==============================] - 1s 2ms/step - loss: 0.5230 - acc: 0.8023 - val_loss: 0.4402 - val_acc: 0.7957\n",
      "\n",
      "Epoch 00004: val_loss improved from 0.55262 to 0.44018, saving model to ./model/cat_hedgehog_classify.model\n",
      "Epoch 5/20\n",
      "521/521 [==============================] - 1s 2ms/step - loss: 0.4454 - acc: 0.8100 - val_loss: 0.3844 - val_acc: 0.8387\n",
      "\n",
      "Epoch 00005: val_loss improved from 0.44018 to 0.38443, saving model to ./model/cat_hedgehog_classify.model\n",
      "Epoch 6/20\n",
      "521/521 [==============================] - 1s 2ms/step - loss: 0.4072 - acc: 0.8253 - val_loss: 0.3313 - val_acc: 0.8710\n",
      "\n",
      "Epoch 00006: val_loss improved from 0.38443 to 0.33133, saving model to ./model/cat_hedgehog_classify.model\n",
      "Epoch 7/20\n",
      "521/521 [==============================] - 1s 2ms/step - loss: 0.3998 - acc: 0.8426 - val_loss: 0.3307 - val_acc: 0.8817\n",
      "\n",
      "Epoch 00007: val_loss improved from 0.33133 to 0.33067, saving model to ./model/cat_hedgehog_classify.model\n",
      "Epoch 8/20\n",
      "521/521 [==============================] - 1s 2ms/step - loss: 0.3368 - acc: 0.8599 - val_loss: 0.3427 - val_acc: 0.8387\n",
      "\n",
      "Epoch 00008: val_loss did not improve from 0.33067\n",
      "Epoch 9/20\n",
      "521/521 [==============================] - 1s 2ms/step - loss: 0.3166 - acc: 0.8676 - val_loss: 0.4347 - val_acc: 0.7957\n",
      "\n",
      "Epoch 00009: val_loss did not improve from 0.33067\n",
      "Epoch 10/20\n",
      "521/521 [==============================] - 1s 2ms/step - loss: 0.2948 - acc: 0.8868 - val_loss: 0.2980 - val_acc: 0.8495\n",
      "\n",
      "Epoch 00010: val_loss improved from 0.33067 to 0.29805, saving model to ./model/cat_hedgehog_classify.model\n",
      "Epoch 11/20\n",
      "521/521 [==============================] - 1s 2ms/step - loss: 0.2572 - acc: 0.9021 - val_loss: 0.2565 - val_acc: 0.8817\n",
      "\n",
      "Epoch 00011: val_loss improved from 0.29805 to 0.25654, saving model to ./model/cat_hedgehog_classify.model\n",
      "Epoch 12/20\n",
      "521/521 [==============================] - 1s 2ms/step - loss: 0.2990 - acc: 0.8848 - val_loss: 0.5957 - val_acc: 0.7312\n",
      "\n",
      "Epoch 00012: val_loss did not improve from 0.25654\n",
      "Epoch 13/20\n",
      "521/521 [==============================] - 1s 2ms/step - loss: 0.3344 - acc: 0.8656 - val_loss: 0.4925 - val_acc: 0.7957\n",
      "\n",
      "Epoch 00013: val_loss did not improve from 0.25654\n",
      "Epoch 14/20\n",
      "521/521 [==============================] - 1s 2ms/step - loss: 0.3615 - acc: 0.8541 - val_loss: 0.3050 - val_acc: 0.8817\n",
      "\n",
      "Epoch 00014: val_loss did not improve from 0.25654\n",
      "Epoch 15/20\n",
      "521/521 [==============================] - 1s 2ms/step - loss: 0.2397 - acc: 0.9002 - val_loss: 0.2206 - val_acc: 0.9032\n",
      "\n",
      "Epoch 00015: val_loss improved from 0.25654 to 0.22057, saving model to ./model/cat_hedgehog_classify.model\n",
      "Epoch 16/20\n",
      "521/521 [==============================] - 1s 2ms/step - loss: 0.2131 - acc: 0.9117 - val_loss: 0.3037 - val_acc: 0.8280\n",
      "\n",
      "Epoch 00016: val_loss did not improve from 0.22057\n",
      "Epoch 17/20\n",
      "521/521 [==============================] - 1s 2ms/step - loss: 0.2210 - acc: 0.9155 - val_loss: 0.2198 - val_acc: 0.9140\n",
      "\n",
      "Epoch 00017: val_loss improved from 0.22057 to 0.21984, saving model to ./model/cat_hedgehog_classify.model\n",
      "Epoch 18/20\n",
      "521/521 [==============================] - 1s 2ms/step - loss: 0.2232 - acc: 0.9136 - val_loss: 0.2493 - val_acc: 0.8602\n",
      "\n",
      "Epoch 00018: val_loss did not improve from 0.21984\n",
      "Epoch 19/20\n",
      "521/521 [==============================] - 1s 2ms/step - loss: 0.1669 - acc: 0.9386 - val_loss: 0.1792 - val_acc: 0.9247\n",
      "\n",
      "Epoch 00019: val_loss improved from 0.21984 to 0.17917, saving model to ./model/cat_hedgehog_classify.model\n",
      "Epoch 20/20\n",
      "521/521 [==============================] - 1s 2ms/step - loss: 0.1642 - acc: 0.9347 - val_loss: 0.2070 - val_acc: 0.9140\n",
      "\n",
      "Epoch 00020: val_loss did not improve from 0.17917\n"
     ]
    }
   ],
   "source": [
    "history = model.fit(X_train, y_train, \n",
    "                    validation_split=0.15, \n",
    "                    epochs=20, batch_size=32,\n",
    "                    callbacks=[checkpoint, early_stopping, tensorboard])"
   ]
  },
  {
   "cell_type": "code",
   "execution_count": 12,
   "metadata": {
    "scrolled": true
   },
   "outputs": [
    {
     "data": {
      "image/png": "[encoded data removed]",
      "text/plain": [
       "<Figure size 432x288 with 1 Axes>"
      ]
     },
     "metadata": {
      "needs_background": "light"
     },
     "output_type": "display_data"
    }
   ],
   "source": [
    "plt.plot(history.history['loss'])\n",
    "plt.plot(history.history['val_loss'])\n",
    "plt.plot(history.history['acc'])\n",
    "plt.plot(history.history['val_acc'])\n",
    "plt.title('model loss')\n",
    "plt.ylabel('loss')\n",
    "plt.ylabel('epochs')\n",
    "plt.legend(['loss', 'val_loss', 'acc' ,'val_acc'], loc='upper left')\n",
    "plt.show()"
   ]
  },
  {
   "cell_type": "code",
   "execution_count": 16,
   "metadata": {
    "scrolled": true
   },
   "outputs": [
    {
     "name": "stdout",
     "output_type": "stream",
     "text": [
      "205/205 [==============================] - 0s 764us/step\n",
      "정확도: 89.27%\n"
     ]
    }
   ],
   "source": [
    "print(\"정확도: {:.2f}%\".format(model.evaluate(X_test, y_test)[1]* 100))"
   ]
  },
  {
   "cell_type": "code",
   "execution_count": null,
   "metadata": {},
   "outputs": [],
   "source": []
  }
 ],
 "metadata": {
  "kernelspec": {
   "display_name": "Python 3",
   "language": "python",
   "name": "python3"
  },
  "language_info": {
   "codemirror_mode": {
    "name": "ipython",
    "version": 3
   },
   "file_extension": ".py",
   "mimetype": "text/x-python",
   "name": "python",
   "nbconvert_exporter": "python",
   "pygments_lexer": "ipython3",
   "version": "3.7.4"
  }
 },
 "nbformat": 4,
 "nbformat_minor": 2
}
